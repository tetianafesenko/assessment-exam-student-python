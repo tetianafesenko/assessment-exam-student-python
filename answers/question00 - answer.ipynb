{
 "cells": [
  {
   "cell_type": "code",
   "execution_count": 1,
   "id": "4ad2e46b-8547-44d0-b9a0-07517536d318",
   "metadata": {},
   "outputs": [
    {
     "data": {
      "text/plain": [
       "\"\\nCreate a function that determines whether or not it’s possible to split a pie fairly given these three parameters:\\n  - Total number of slices\\n  - Number of recipients\\n  - How many slices each person gets \\n\\nForm of the function:\\n    equal_slices(total_ slices, no_recipients, slices_each)\\n\\nExamples:\\n    equal_slices(11, 5, 2) ➞ True\\n    5 people x 2 slices each = 10 slices < 11 slices \\n\\n    equal_slices(11, 5, 3) ➞ False\\n    5 people x 3 slices each = 15 slices > 11 slices\\n\\n\\n    equal_slices(8, 3, 2) ➞ True\\n\\n    equal_slices(8, 3, 3) ➞ False\\n\\n    equal_slices(24, 12, 2) ➞ True\\n\\nNotes:\\n - Return True if there are zero people.\\n - It's fine not to use the entire pie.\\n - All parameters are integers\\n\""
      ]
     },
     "execution_count": 1,
     "metadata": {},
     "output_type": "execute_result"
    }
   ],
   "source": [
    "\"\"\"\n",
    "Create a function that determines whether or not it’s possible to split a pie fairly given these three parameters:\n",
    "  - Total number of slices\n",
    "  - Number of recipients\n",
    "  - How many slices each person gets \n",
    "\n",
    "Form of the function:\n",
    "    equal_slices(total_ slices, no_recipients, slices_each)\n",
    "\n",
    "Examples:\n",
    "    equal_slices(11, 5, 2) ➞ True\n",
    "    5 people x 2 slices each = 10 slices < 11 slices \n",
    "\n",
    "    equal_slices(11, 5, 3) ➞ False\n",
    "    5 people x 3 slices each = 15 slices > 11 slices\n",
    "\n",
    "\n",
    "    equal_slices(8, 3, 2) ➞ True\n",
    "\n",
    "    equal_slices(8, 3, 3) ➞ False\n",
    "\n",
    "    equal_slices(24, 12, 2) ➞ True\n",
    "\n",
    "Notes:\n",
    " - Return True if there are zero people.\n",
    " - It's fine not to use the entire pie.\n",
    " - All parameters are integers\n",
    "\"\"\"\n",
    "\n",
    "\n"
   ]
  },
  {
   "cell_type": "code",
   "execution_count": 2,
   "id": "99580bcf-a238-4376-b4ad-4aa11fef1455",
   "metadata": {},
   "outputs": [
    {
     "name": "stdout",
     "output_type": "stream",
     "text": [
      "11 5 2\n"
     ]
    }
   ],
   "source": [
    "def equal_slices(total_slices, no_recipients, slices_each):\n",
    "    print(total_slices + \" \" + no_recipients + \" \" + slices_each)\n",
    "equal_slices(\"11\", \"5\", \"2\")"
   ]
  },
  {
   "cell_type": "code",
   "execution_count": 3,
   "id": "58879694-9619-44b5-8a07-88562b59b314",
   "metadata": {},
   "outputs": [
    {
     "name": "stdout",
     "output_type": "stream",
     "text": [
      "True\n"
     ]
    }
   ],
   "source": [
    "total_slices = 11\n",
    "people = 5\n",
    "slices_each = 2 \n",
    "if people * slices_each < 11:\n",
    "    print(\"True\")\n",
    "else:\n",
    "    print(\"False\")"
   ]
  },
  {
   "cell_type": "code",
   "execution_count": 4,
   "id": "3ee9930c-04ef-4721-8615-fbb56c3d532b",
   "metadata": {},
   "outputs": [
    {
     "name": "stdout",
     "output_type": "stream",
     "text": [
      "False\n"
     ]
    }
   ],
   "source": [
    "total_slices = 11\n",
    "people = 5\n",
    "slices_each = 3 \n",
    "if people * slices_each < 11:\n",
    "    print(\"True\")\n",
    "else:\n",
    "    print(\"False\")"
   ]
  },
  {
   "cell_type": "code",
   "execution_count": 5,
   "id": "f567c03a-f4da-4bae-991b-dc3b09221860",
   "metadata": {},
   "outputs": [
    {
     "name": "stdout",
     "output_type": "stream",
     "text": [
      "True\n"
     ]
    }
   ],
   "source": [
    "total_slices = 8\n",
    "people = 3\n",
    "slices_each = 2 \n",
    "if people * slices_each < 8:\n",
    "    print(\"True\")\n",
    "else:\n",
    "    print(\"False\")"
   ]
  },
  {
   "cell_type": "code",
   "execution_count": 6,
   "id": "b6a645c8-6c7b-494b-8acf-c1b750922215",
   "metadata": {},
   "outputs": [
    {
     "name": "stdout",
     "output_type": "stream",
     "text": [
      "False\n"
     ]
    }
   ],
   "source": [
    "total_slices = 8\n",
    "people = 3\n",
    "slices_each = 3 \n",
    "if people * slices_each < 8:\n",
    "    print(\"True\")\n",
    "else:\n",
    "    print(\"False\")"
   ]
  },
  {
   "cell_type": "code",
   "execution_count": 7,
   "id": "4c53c6cb-3309-4b39-aedf-b719ccf80ad8",
   "metadata": {},
   "outputs": [
    {
     "name": "stdout",
     "output_type": "stream",
     "text": [
      "True\n"
     ]
    }
   ],
   "source": [
    "total_slices = 24\n",
    "people = 12\n",
    "slices_each = 2 \n",
    "if people * slices_each <= 24:\n",
    "    print(\"True\")\n",
    "else:\n",
    "    print(\"False\")"
   ]
  },
  {
   "cell_type": "code",
   "execution_count": 8,
   "id": "241d6dee-f976-4550-a1b2-cc4b32410880",
   "metadata": {},
   "outputs": [
    {
     "name": "stdout",
     "output_type": "stream",
     "text": [
      "True\n"
     ]
    }
   ],
   "source": [
    "total_slices = 24\n",
    "people = 0\n",
    "slices_each = 2 \n",
    "if people * slices_each < 24:\n",
    "    print(\"True\")\n",
    "else:\n",
    "    print(\"False\")"
   ]
  },
  {
   "cell_type": "code",
   "execution_count": 9,
   "id": "52a7bb86-69b7-4621-b3b4-2696f63f7f19",
   "metadata": {},
   "outputs": [
    {
     "name": "stdout",
     "output_type": "stream",
     "text": [
      "True, 1\n"
     ]
    }
   ],
   "source": [
    "total_slices = 11\n",
    "people = 5\n",
    "slices_each = 2 \n",
    "if people * slices_each < 11:\n",
    "    print(\"True\" \",\", total_slices - (people*slices_each))\n",
    "else:\n",
    "    print(\"False\")"
   ]
  }
 ],
 "metadata": {
  "kernelspec": {
   "display_name": "Python 3.11.0 64-bit",
   "language": "python",
   "name": "python3"
  },
  "language_info": {
   "codemirror_mode": {
    "name": "ipython",
    "version": 3
   },
   "file_extension": ".py",
   "mimetype": "text/x-python",
   "name": "python",
   "nbconvert_exporter": "python",
   "pygments_lexer": "ipython3",
   "version": "3.11.0"
  },
  "vscode": {
   "interpreter": {
    "hash": "aee8b7b246df8f9039afb4144a1f6fd8d2ca17a180786b69acc140d282b71a49"
   }
  }
 },
 "nbformat": 4,
 "nbformat_minor": 5
}
