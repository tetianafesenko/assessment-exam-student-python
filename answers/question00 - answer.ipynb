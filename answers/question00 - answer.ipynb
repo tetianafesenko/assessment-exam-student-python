{
 "cells": [
  {
   "cell_type": "code",
   "execution_count": 65,
   "id": "4ad2e46b-8547-44d0-b9a0-07517536d318",
   "metadata": {},
   "outputs": [
    {
     "data": {
      "text/plain": [
       "\"\\nCreate a function that determines whether or not it’s possible to split a pie fairly given these three parameters:\\n  - Total number of slices\\n  - Number of recipients\\n  - How many slices each person gets \\n\\nForm of the function:\\n    equal_slices(total_ slices, no_recipients, slices_each)\\n\\nExamples:\\n    equal_slices(11, 5, 2) ➞ True\\n    5 people x 2 slices each = 10 slices < 11 slices \\n\\n    equal_slices(11, 5, 3) ➞ False\\n    5 people x 3 slices each = 15 slices > 11 slices\\n\\n\\n    equal_slices(8, 3, 2) ➞ True\\n\\n    equal_slices(8, 3, 3) ➞ False\\n\\n    equal_slices(24, 12, 2) ➞ True\\n\\nNotes:\\n - Return True if there are zero people.\\n - It's fine not to use the entire pie.\\n - All parameters are integers\\n\""
      ]
     },
     "execution_count": 65,
     "metadata": {},
     "output_type": "execute_result"
    }
   ],
   "source": [
    "\"\"\"\n",
    "Create a function that determines whether or not it’s possible to split a pie fairly given these three parameters:\n",
    "  - Total number of slices\n",
    "  - Number of recipients\n",
    "  - How many slices each person gets \n",
    "\n",
    "Form of the function:\n",
    "    equal_slices(total_ slices, no_recipients, slices_each)\n",
    "\n",
    "Examples:\n",
    "    equal_slices(11, 5, 2) ➞ True\n",
    "    5 people x 2 slices each = 10 slices < 11 slices \n",
    "\n",
    "    equal_slices(11, 5, 3) ➞ False\n",
    "    5 people x 3 slices each = 15 slices > 11 slices\n",
    "\n",
    "\n",
    "    equal_slices(8, 3, 2) ➞ True\n",
    "\n",
    "    equal_slices(8, 3, 3) ➞ False\n",
    "\n",
    "    equal_slices(24, 12, 2) ➞ True\n",
    "\n",
    "Notes:\n",
    " - Return True if there are zero people.\n",
    " - It's fine not to use the entire pie.\n",
    " - All parameters are integers\n",
    "\"\"\"\n",
    "\n",
    "\n"
   ]
  },
  {
   "cell_type": "code",
   "execution_count": 66,
   "id": "99580bcf-a238-4376-b4ad-4aa11fef1455",
   "metadata": {},
   "outputs": [],
   "source": [
    "def equal_slices(total_slices, no_recipients, slices_each):\n",
    "    if (no_recipients) * (slices_each) <= (total_slices):\n",
    "        return True\n",
    "    elif (no_recipients) * (slices_each) == 0:\n",
    "        return True\n",
    "    else:\n",
    "        return False"
   ]
  },
  {
   "cell_type": "code",
   "execution_count": 67,
   "id": "0b6300a1",
   "metadata": {},
   "outputs": [
    {
     "data": {
      "text/plain": [
       "True"
      ]
     },
     "execution_count": 67,
     "metadata": {},
     "output_type": "execute_result"
    }
   ],
   "source": [
    "equal_slices(11, 5, 2)"
   ]
  },
  {
   "cell_type": "code",
   "execution_count": 68,
   "id": "d8b77c9d",
   "metadata": {},
   "outputs": [
    {
     "data": {
      "text/plain": [
       "False"
      ]
     },
     "execution_count": 68,
     "metadata": {},
     "output_type": "execute_result"
    }
   ],
   "source": [
    "equal_slices(11, 5, 3)"
   ]
  },
  {
   "cell_type": "code",
   "execution_count": 69,
   "id": "70829955",
   "metadata": {},
   "outputs": [
    {
     "data": {
      "text/plain": [
       "True"
      ]
     },
     "execution_count": 69,
     "metadata": {},
     "output_type": "execute_result"
    }
   ],
   "source": [
    "equal_slices(8, 3, 2)"
   ]
  },
  {
   "cell_type": "code",
   "execution_count": 70,
   "id": "32f7cbd8",
   "metadata": {},
   "outputs": [
    {
     "data": {
      "text/plain": [
       "False"
      ]
     },
     "execution_count": 70,
     "metadata": {},
     "output_type": "execute_result"
    }
   ],
   "source": [
    "equal_slices(8, 3, 3)"
   ]
  },
  {
   "cell_type": "code",
   "execution_count": 71,
   "id": "dce74527",
   "metadata": {},
   "outputs": [
    {
     "data": {
      "text/plain": [
       "True"
      ]
     },
     "execution_count": 71,
     "metadata": {},
     "output_type": "execute_result"
    }
   ],
   "source": [
    "equal_slices(24, 12, 2)"
   ]
  }
 ],
 "metadata": {
  "kernelspec": {
   "display_name": "Python 3.11.0 64-bit",
   "language": "python",
   "name": "python3"
  },
  "language_info": {
   "codemirror_mode": {
    "name": "ipython",
    "version": 3
   },
   "file_extension": ".py",
   "mimetype": "text/x-python",
   "name": "python",
   "nbconvert_exporter": "python",
   "pygments_lexer": "ipython3",
   "version": "3.11.0"
  },
  "vscode": {
   "interpreter": {
    "hash": "aee8b7b246df8f9039afb4144a1f6fd8d2ca17a180786b69acc140d282b71a49"
   }
  }
 },
 "nbformat": 4,
 "nbformat_minor": 5
}
