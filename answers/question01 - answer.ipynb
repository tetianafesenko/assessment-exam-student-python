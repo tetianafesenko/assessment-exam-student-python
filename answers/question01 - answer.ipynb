{
 "cells": [
  {
   "cell_type": "code",
   "execution_count": 1,
   "id": "8ada2027-674e-464e-a16b-ab7df3ab4fc4",
   "metadata": {},
   "outputs": [
    {
     "name": "stdout",
     "output_type": "stream",
     "text": [
      "True, 1\n"
     ]
    }
   ],
   "source": [
    "total_slices = 11\n",
    "people = 5\n",
    "slices_each = 2 \n",
    "if people * slices_each < 11:\n",
    "    print(\"True\" \",\", total_slices - (people*slices_each))\n",
    "else:\n",
    "    print(\"False\")"
   ]
  },
  {
   "cell_type": "code",
   "execution_count": 27,
   "id": "d9f51d93-b4ab-4a6d-b174-7a9eef7d8b63",
   "metadata": {},
   "outputs": [
    {
     "name": "stdout",
     "output_type": "stream",
     "text": [
      "False, None\n"
     ]
    }
   ],
   "source": [
    "total_slices = 11\n",
    "people = 5\n",
    "slices_each = 3 \n",
    "if people * slices_each < 11:\n",
    "    print(\"True\" \",\", total_slices - (people*slices_each))\n",
    "else:\n",
    "    print(\"False\" \",\", \"None\")"
   ]
  },
  {
   "cell_type": "code",
   "execution_count": 28,
   "id": "8510b01f-4444-4151-886e-5619511d7567",
   "metadata": {},
   "outputs": [
    {
     "name": "stdout",
     "output_type": "stream",
     "text": [
      "True, 2\n"
     ]
    }
   ],
   "source": [
    "total_slices = 8\n",
    "people = 3\n",
    "slices_each = 2 \n",
    "if people * slices_each <8:\n",
    "    print(\"True\" \",\", total_slices - (people*slices_each))\n",
    "else:\n",
    "    print(\"False\" \",\", \"None\")"
   ]
  },
  {
   "cell_type": "code",
   "execution_count": 30,
   "id": "7117e745-0e83-4200-b733-af0cd61987dd",
   "metadata": {},
   "outputs": [
    {
     "name": "stdout",
     "output_type": "stream",
     "text": [
      "False, None\n"
     ]
    }
   ],
   "source": [
    "total_slices = 8\n",
    "people = 3\n",
    "slices_each = 3 \n",
    "if people * slices_each > 11:\n",
    "    print(\"True\" \",\", total_slices - (people*slices_each))\n",
    "else:\n",
    "    print(\"False\" \",\", \"None\")"
   ]
  },
  {
   "cell_type": "code",
   "execution_count": 34,
   "id": "e2888873-ba96-4739-a79f-cc1a53cc244b",
   "metadata": {},
   "outputs": [
    {
     "name": "stdout",
     "output_type": "stream",
     "text": [
      "True, 0\n"
     ]
    }
   ],
   "source": [
    "total_slices = 24\n",
    "people = 12\n",
    "slices_each = 2 \n",
    "if people * slices_each <= 24:\n",
    "    print(\"True\" \",\", total_slices - (people*slices_each))\n",
    "else:\n",
    "    print(\"False\")"
   ]
  },
  {
   "cell_type": "code",
   "execution_count": null,
   "id": "cdea62ef-d334-4ff9-b9ef-3dfee67a6e1f",
   "metadata": {},
   "outputs": [],
   "source": []
  }
 ],
 "metadata": {
  "kernelspec": {
   "display_name": "Python 3.11.0 64-bit",
   "language": "python",
   "name": "python3"
  },
  "language_info": {
   "codemirror_mode": {
    "name": "ipython",
    "version": 3
   },
   "file_extension": ".py",
   "mimetype": "text/x-python",
   "name": "python",
   "nbconvert_exporter": "python",
   "pygments_lexer": "ipython3",
   "version": "3.11.0"
  },
  "vscode": {
   "interpreter": {
    "hash": "aee8b7b246df8f9039afb4144a1f6fd8d2ca17a180786b69acc140d282b71a49"
   }
  }
 },
 "nbformat": 4,
 "nbformat_minor": 5
}
