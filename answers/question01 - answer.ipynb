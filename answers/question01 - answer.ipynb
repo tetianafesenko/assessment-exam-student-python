{
 "cells": [
  {
   "cell_type": "code",
   "execution_count": 20,
   "id": "8ada2027-674e-464e-a16b-ab7df3ab4fc4",
   "metadata": {},
   "outputs": [],
   "source": [
    "def equal_slices(total_slices, no_recipients, slices_each):\n",
    "    if (no_recipients) * (slices_each) <= (total_slices):\n",
    "        return True, (total_slices - (no_recipients*slices_each))\n",
    "    elif (no_recipients) * (slices_each) == 0:\n",
    "        return True, (total_slices)\n",
    "    else:\n",
    "        return False, None"
   ]
  },
  {
   "cell_type": "code",
   "execution_count": 21,
   "id": "f14ab52c",
   "metadata": {},
   "outputs": [
    {
     "data": {
      "text/plain": [
       "(True, 1)"
      ]
     },
     "execution_count": 21,
     "metadata": {},
     "output_type": "execute_result"
    }
   ],
   "source": [
    "equal_slices(11,5,2)"
   ]
  },
  {
   "cell_type": "code",
   "execution_count": 22,
   "id": "d141fdb6",
   "metadata": {},
   "outputs": [
    {
     "data": {
      "text/plain": [
       "(False, None)"
      ]
     },
     "execution_count": 22,
     "metadata": {},
     "output_type": "execute_result"
    }
   ],
   "source": [
    "equal_slices(11,5,3)"
   ]
  },
  {
   "cell_type": "code",
   "execution_count": 23,
   "id": "cc2dc5f9",
   "metadata": {},
   "outputs": [
    {
     "data": {
      "text/plain": [
       "(True, 2)"
      ]
     },
     "execution_count": 23,
     "metadata": {},
     "output_type": "execute_result"
    }
   ],
   "source": [
    "equal_slices(8,3,2)"
   ]
  },
  {
   "cell_type": "code",
   "execution_count": 24,
   "id": "df87ca45",
   "metadata": {},
   "outputs": [
    {
     "data": {
      "text/plain": [
       "(False, None)"
      ]
     },
     "execution_count": 24,
     "metadata": {},
     "output_type": "execute_result"
    }
   ],
   "source": [
    "equal_slices(8,3,3)"
   ]
  },
  {
   "cell_type": "code",
   "execution_count": 25,
   "id": "6b16e6c1",
   "metadata": {},
   "outputs": [
    {
     "data": {
      "text/plain": [
       "(True, 0)"
      ]
     },
     "execution_count": 25,
     "metadata": {},
     "output_type": "execute_result"
    }
   ],
   "source": [
    "equal_slices(24,12,2)"
   ]
  }
 ],
 "metadata": {
  "kernelspec": {
   "display_name": "Python 3.11.0 64-bit",
   "language": "python",
   "name": "python3"
  },
  "language_info": {
   "codemirror_mode": {
    "name": "ipython",
    "version": 3
   },
   "file_extension": ".py",
   "mimetype": "text/x-python",
   "name": "python",
   "nbconvert_exporter": "python",
   "pygments_lexer": "ipython3",
   "version": "3.11.0"
  },
  "vscode": {
   "interpreter": {
    "hash": "aee8b7b246df8f9039afb4144a1f6fd8d2ca17a180786b69acc140d282b71a49"
   }
  }
 },
 "nbformat": 4,
 "nbformat_minor": 5
}
