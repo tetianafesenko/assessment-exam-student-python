{
 "cells": [
  {
   "cell_type": "code",
   "execution_count": 177,
   "id": "451c0266",
   "metadata": {},
   "outputs": [
    {
     "data": {
      "text/plain": [
       "{'a', 'e', 'l', 'p', 'y'}"
      ]
     },
     "execution_count": 177,
     "metadata": {},
     "output_type": "execute_result"
    }
   ],
   "source": [
    "def count_unique_chars(apple, play):\n",
    "     result = \"\"\n",
    "     for char in apple, play:\n",
    "         result = char + result\n",
    "     return set(result)\n",
    "count_unique_chars(\"apple\", \"play\")"
   ]
  },
  {
   "cell_type": "code",
   "execution_count": 178,
   "id": "d8fe3ef4",
   "metadata": {},
   "outputs": [
    {
     "data": {
      "text/plain": [
       "7"
      ]
     },
     "execution_count": 178,
     "metadata": {},
     "output_type": "execute_result"
    }
   ],
   "source": [
    "def count_unique_chars(apple, play):\n",
    "     result = \"\"\n",
    "     for char in apple, play:\n",
    "         result = char + result   \n",
    "     return len(set(result))\n",
    "count_unique_chars(\"sore\", \"zebra\")"
   ]
  },
  {
   "cell_type": "code",
   "execution_count": 179,
   "id": "a1a340ca",
   "metadata": {},
   "outputs": [
    {
     "data": {
      "text/plain": [
       "5"
      ]
     },
     "execution_count": 179,
     "metadata": {},
     "output_type": "execute_result"
    }
   ],
   "source": [
    "count_unique_chars(\"a\", \"soup\")"
   ]
  },
  {
   "cell_type": "code",
   "execution_count": 180,
   "id": "7db33647-e37f-4899-80b2-a2a33ceecf0a",
   "metadata": {},
   "outputs": [
    {
     "name": "stdout",
     "output_type": "stream",
     "text": [
      "Elements: {'l', 'a', 'p', 'y', 'e'}\n"
     ]
    }
   ],
   "source": [
    "string_1 = \"apple\"\n",
    "string_2 = \"play\"\n",
    "count_unique_chars = string_1 + string_2\n",
    "\n",
    "s=set(count_unique_chars)\n",
    "print('Elements:',s)"
   ]
  },
  {
   "cell_type": "code",
   "execution_count": 181,
   "id": "9e32891c-0209-4b38-bbf6-c0f1b01eb45b",
   "metadata": {},
   "outputs": [
    {
     "name": "stdout",
     "output_type": "stream",
     "text": [
      "Unique chars: 7\n"
     ]
    }
   ],
   "source": [
    "string_1 = \"sore\"\n",
    "string_2 = \"zebra\"\n",
    "count_unique_chars = string_1 + string_2\n",
    "\n",
    "s=set(count_unique_chars)  \n",
    "l=len(s)  \n",
    "print('Unique chars:',l)"
   ]
  },
  {
   "cell_type": "code",
   "execution_count": 182,
   "id": "c683dc70-aa37-4b2c-ae9c-68a2875e186b",
   "metadata": {},
   "outputs": [
    {
     "name": "stdout",
     "output_type": "stream",
     "text": [
      "Unique chars: 5\n"
     ]
    }
   ],
   "source": [
    "string_1 = \"a\"\n",
    "string_2 = \"soup\"\n",
    "count_unique_chars = string_1 + string_2\n",
    "\n",
    "s=set(count_unique_chars)  \n",
    "l=len(s)  \n",
    "print('Unique chars:',l)"
   ]
  }
 ],
 "metadata": {
  "kernelspec": {
   "display_name": "Python 3.11.0 64-bit",
   "language": "python",
   "name": "python3"
  },
  "language_info": {
   "codemirror_mode": {
    "name": "ipython",
    "version": 3
   },
   "file_extension": ".py",
   "mimetype": "text/x-python",
   "name": "python",
   "nbconvert_exporter": "python",
   "pygments_lexer": "ipython3",
   "version": "3.11.0"
  },
  "vscode": {
   "interpreter": {
    "hash": "aee8b7b246df8f9039afb4144a1f6fd8d2ca17a180786b69acc140d282b71a49"
   }
  }
 },
 "nbformat": 4,
 "nbformat_minor": 5
}
