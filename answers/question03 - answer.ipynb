{
 "cells": [
  {
   "cell_type": "code",
   "execution_count": 59,
   "id": "a1ea5525-9d0e-4b96-8949-29c252546312",
   "metadata": {},
   "outputs": [
    {
     "data": {
      "text/plain": [
       "'CBA'"
      ]
     },
     "execution_count": 59,
     "metadata": {},
     "output_type": "execute_result"
    }
   ],
   "source": [
    "def reverse_capitalize(abc):\n",
    "     result = \"\"\n",
    "     for char in abc:\n",
    "         result = char + result\n",
    "     return result.upper()\n",
    "reverse_capitalize(\"abc\")"
   ]
  },
  {
   "cell_type": "code",
   "execution_count": 60,
   "id": "ec559960-c205-4ed1-ab15-3150db9641c0",
   "metadata": {},
   "outputs": [
    {
     "data": {
      "text/plain": [
       "'EREHTOLLEH'"
      ]
     },
     "execution_count": 60,
     "metadata": {},
     "output_type": "execute_result"
    }
   ],
   "source": [
    "def reverse_capitalize(hellothere):\n",
    "     result = \"\"\n",
    "     for char in hellothere:\n",
    "         result = char + result\n",
    "     return result.upper()\n",
    "reverse_capitalize(\"hellothere\")"
   ]
  },
  {
   "cell_type": "code",
   "execution_count": 61,
   "id": "5f284b18-8207-4c7a-8ec3-2ab3f64cf54d",
   "metadata": {},
   "outputs": [
    {
     "data": {
      "text/plain": [
       "'TUPNI'"
      ]
     },
     "execution_count": 61,
     "metadata": {},
     "output_type": "execute_result"
    }
   ],
   "source": [
    "def reverse_capitalize(input):\n",
    "     result = \"\"\n",
    "     for char in input:\n",
    "         result = char + result\n",
    "     return result.upper()\n",
    "reverse_capitalize(\"input\")"
   ]
  },
  {
   "cell_type": "code",
   "execution_count": null,
   "id": "31338d9a-26e4-4e73-99ca-ca55a2f0d593",
   "metadata": {},
   "outputs": [],
   "source": []
  }
 ],
 "metadata": {
  "kernelspec": {
   "display_name": "Python 3.11.0 64-bit",
   "language": "python",
   "name": "python3"
  },
  "language_info": {
   "codemirror_mode": {
    "name": "ipython",
    "version": 3
   },
   "file_extension": ".py",
   "mimetype": "text/x-python",
   "name": "python",
   "nbconvert_exporter": "python",
   "pygments_lexer": "ipython3",
   "version": "3.11.0"
  },
  "vscode": {
   "interpreter": {
    "hash": "aee8b7b246df8f9039afb4144a1f6fd8d2ca17a180786b69acc140d282b71a49"
   }
  }
 },
 "nbformat": 4,
 "nbformat_minor": 5
}
