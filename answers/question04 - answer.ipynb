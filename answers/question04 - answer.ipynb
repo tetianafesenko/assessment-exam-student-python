{
 "cells": [
  {
   "cell_type": "code",
   "execution_count": 2,
   "id": "95cd50c8-2dac-4ec4-b20b-49d6796bd9be",
   "metadata": {},
   "outputs": [
    {
     "name": "stdout",
     "output_type": "stream",
     "text": [
      "False\n"
     ]
    }
   ],
   "source": [
    "def divisible(m, n):\n",
    "    return True if m % n == 0 else False\n",
    "\n",
    "print(divisible(1, 100))"
   ]
  },
  {
   "cell_type": "code",
   "execution_count": 4,
   "id": "d4dc8316-9bae-4457-99ec-b2afcbee8fb7",
   "metadata": {},
   "outputs": [
    {
     "name": "stdout",
     "output_type": "stream",
     "text": [
      "False\n",
      "True\n",
      "True\n"
     ]
    }
   ],
   "source": [
    "def divisible(m, n):\n",
    "    return True if m % n == 0 else False\n",
    "\n",
    "print(divisible(1, 100))\n",
    "print(divisible(1000, 100))\n",
    "print(divisible(100, 100))"
   ]
  },
  {
   "cell_type": "code",
   "execution_count": null,
   "id": "70caaf2c-efc1-44e4-8e57-a58691f83b02",
   "metadata": {},
   "outputs": [],
   "source": []
  }
 ],
 "metadata": {
  "kernelspec": {
   "display_name": "Python 3 (ipykernel)",
   "language": "python",
   "name": "python3"
  },
  "language_info": {
   "codemirror_mode": {
    "name": "ipython",
    "version": 3
   },
   "file_extension": ".py",
   "mimetype": "text/x-python",
   "name": "python",
   "nbconvert_exporter": "python",
   "pygments_lexer": "ipython3",
   "version": "3.9.13"
  }
 },
 "nbformat": 4,
 "nbformat_minor": 5
}
